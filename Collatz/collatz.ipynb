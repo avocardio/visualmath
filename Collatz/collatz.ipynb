{
 "cells": [
  {
   "cell_type": "code",
   "execution_count": 2,
   "id": "1d0e87b6",
   "metadata": {},
   "outputs": [],
   "source": [
    "import numpy as np\n",
    "import matplotlib.pyplot as plt"
   ]
  },
  {
   "cell_type": "code",
   "execution_count": 3,
   "id": "1ab64285",
   "metadata": {},
   "outputs": [],
   "source": [
    "def check(n):\n",
    "    \n",
    "    if n %% 2 == 0:\n",
    "        even(n)\n",
    "    else:\n",
    "        \n",
    "\n",
    "def even(n):\n",
    "    \n",
    "    return n/2\n",
    "\n",
    "def uneven(n):\n",
    "    \n",
    "    return 3*n+1 "
   ]
  },
  {
   "cell_type": "code",
   "execution_count": 11,
   "id": "74463847",
   "metadata": {},
   "outputs": [],
   "source": [
    "data = np.arange(1,100)"
   ]
  },
  {
   "cell_type": "code",
   "execution_count": 16,
   "id": "46a94a26",
   "metadata": {},
   "outputs": [
    {
     "data": {
      "image/png": "[encoded data removed]",
      "text/plain": [
       "<Figure size 432x288 with 1 Axes>"
      ]
     },
     "metadata": {
      "needs_background": "light"
     },
     "output_type": "display_data"
    }
   ],
   "source": [
    "plt.scatter(x=np.arange(1,100), y=[even(x) for x in data])\n",
    "plt.show()"
   ]
  },
  {
   "cell_type": "code",
   "execution_count": null,
   "id": "772daeb7",
   "metadata": {},
   "outputs": [],
   "source": []
  }
 ],
 "metadata": {
  "kernelspec": {
   "display_name": "Python 3 (ipykernel)",
   "language": "python",
   "name": "python3"
  },
  "language_info": {
   "codemirror_mode": {
    "name": "ipython",
    "version": 3
   },
   "file_extension": ".py",
   "mimetype": "text/x-python",
   "name": "python",
   "nbconvert_exporter": "python",
   "pygments_lexer": "ipython3",
   "version": "3.9.5"
  }
 },
 "nbformat": 4,
 "nbformat_minor": 5
}
