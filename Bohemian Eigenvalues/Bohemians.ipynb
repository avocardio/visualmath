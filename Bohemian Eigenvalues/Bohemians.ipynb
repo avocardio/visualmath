{
 "cells": [
  {
   "cell_type": "code",
   "execution_count": 1,
   "source": [
    "import numpy as np\r\n",
    "import matplotlib.pyplot as plt\r\n",
    "from tqdm import tqdm"
   ],
   "outputs": [],
   "metadata": {}
  },
  {
   "cell_type": "code",
   "execution_count": 96,
   "source": [
    "matrix = 5\r\n",
    "\r\n",
    "L = np.zeros((10**6,matrix), dtype=np.complex128)\r\n",
    "\r\n",
    "for i in tqdm(range(10**6)):\r\n",
    "    A = np.random.randint(-20, high=20, size=(matrix,matrix))  # IDK\r\n",
    "    # A = np.random.choice([-20,-1,0,1,20], size=(matrix,matrix))  # Golf Ball\r\n",
    "    # A = np.random.beta(0.01, 0.01, size=(matrix,matrix))       # Normal case\r\n",
    "    # A = np.random.beta(np.random.uniform(low=0, high=1),\r\n",
    "    #                    np.random.uniform(low=0, high=1), \r\n",
    "    #                    size=(matrix,matrix))\r\n",
    "    # A = np.fill_diagonal(A,20) # Doesnt work\r\n",
    "    L[i,:] = np.linalg.eigvals(A)\r\n",
    "L = L.flatten()"
   ],
   "outputs": [
    {
     "output_type": "stream",
     "name": "stderr",
     "text": [
      "100%|██████████| 1000000/1000000 [00:43<00:00, 23126.44it/s]\n"
     ]
    }
   ],
   "metadata": {
    "scrolled": false
   }
  },
  {
   "cell_type": "code",
   "execution_count": 97,
   "source": [
    "H,x,y = np.histogram2d(L.imag,L.real,bins=1000)\r\n",
    "plt.figure(figsize=(3.440,1.440), dpi = 200)\r\n",
    "#plt.xlim(-100,100)\r\n",
    "plt.axis('off')\r\n",
    "plt.imshow(np.log(H+1),extent=[y[0], y[-1], x[0], x[-1]], cmap = 'bone')\r\n",
    "# Plot on heatmap, use log to avoid 0 values\r\n",
    "plt.savefig('background.png',dpi = 10000)"
   ],
   "outputs": [],
   "metadata": {}
  }
 ],
 "metadata": {
  "kernelspec": {
   "name": "python3",
   "display_name": "Python 3.9.5 64-bit ('base': conda)"
  },
  "language_info": {
   "codemirror_mode": {
    "name": "ipython",
    "version": 3
   },
   "file_extension": ".py",
   "mimetype": "text/x-python",
   "name": "python",
   "nbconvert_exporter": "python",
   "pygments_lexer": "ipython3",
   "version": "3.9.5"
  },
  "interpreter": {
   "hash": "0b3de3e748b7b1d94279800ed1eb3e886f8d8c071752c4d9db2d0cf6def872da"
  }
 },
 "nbformat": 4,
 "nbformat_minor": 5
}